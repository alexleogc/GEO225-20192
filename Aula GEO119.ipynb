{
 "cells": [
  {
   "cell_type": "code",
   "execution_count": 1,
   "metadata": {},
   "outputs": [],
   "source": [
    "import numpy as np\n",
    "import matplotlib.pyplot as plt"
   ]
  },
  {
   "cell_type": "markdown",
   "metadata": {},
   "source": [
    "#### Vamos supor um modelo composto de camadas homogêneas, em que as velocidades sejam constantes e crescentes, ou seja: \n",
    "\n",
    "$$v_1<v_2<v_3$$."
   ]
  },
  {
   "cell_type": "code",
   "execution_count": 2,
   "metadata": {},
   "outputs": [
    {
     "data": {
      "text/plain": [
       "1732.0508075688772"
      ]
     },
     "execution_count": 2,
     "metadata": {},
     "output_type": "execute_result"
    }
   ],
   "source": [
    "np.tan(np.deg2rad(30))*3000"
   ]
  },
  {
   "cell_type": "code",
   "execution_count": 3,
   "metadata": {},
   "outputs": [
    {
     "data": {
      "text/plain": [
       "<matplotlib.colorbar.Colorbar at 0x7f5712990630>"
      ]
     },
     "execution_count": 3,
     "metadata": {},
     "output_type": "execute_result"
    },
    {
     "data": {
      "image/png": "[encoded data removed]",
      "text/plain": [
       "<Figure size 1440x288 with 2 Axes>"
      ]
     },
     "metadata": {
      "needs_background": "light"
     },
     "output_type": "display_data"
    }
   ],
   "source": [
    "x = np.arange(0,1000,10)\n",
    "y = np.arange(0,50,0.1)\n",
    "\n",
    "xi,yi = np.meshgrid(x,y)\n",
    "\n",
    "zi = np.zeros(shape=(np.shape(xi)))\n",
    "\n",
    "zi[yi<=20] = 2000\n",
    "zi[(yi>=20) & (yi<=35)] = 3000\n",
    "zi[yi>=35] =4000\n",
    "\n",
    "plt.figure(figsize=(20,4))\n",
    "plt.gca().invert_yaxis()\n",
    "plt.contourf(xi,yi,zi)\n",
    "plt.colorbar()"
   ]
  },
  {
   "cell_type": "code",
   "execution_count": 4,
   "metadata": {},
   "outputs": [],
   "source": [
    "def tempo_onda_direta(x,v):\n",
    "    # x - é um array que indica a posição dos receptores\n",
    "    # v - velocidade da primeira camada\n",
    "    return x/v\n",
    "\n",
    "#================= Onda refratada simples =====================#\n",
    "\n",
    "\n",
    "def tempo_onda_refratada_simples(x,v,z):\n",
    "\n",
    "    t = np.zeros(len(x)) ; theta = np.arcsin(v[0]/v[1])\n",
    "    \n",
    "    for i in range(0,len(x)):\n",
    "        if x[i]>= z*np.tan(theta)/2:\n",
    "            t[i] = (x[i]/v[1]) + (2*z*np.cos(theta)/v[0])\n",
    "    return t\n",
    "\n",
    "#================= Onda refratada n camadas =====================#\n",
    "\n",
    "\n",
    "def tempo_refratada_n_camadas(x,v,z):\n",
    "    \n",
    "    t = np.zeros(len(x)); v=np.asarray(v) ; z=np.asarray(z)\n",
    "    \n",
    "    for i in range(0,len(x)):\n",
    "        \n",
    "        t[i] = x[i]/v[-1]\n",
    "        \n",
    "        xc = 0.0\n",
    "        for j in range(0,len(z)):\n",
    "            \n",
    "            theta = np.arcsin(v[j]/v[j+1])\n",
    "            t[i] += (2*z[j]*np.cos(theta))/v[j]\n",
    "            xc += z[j]*np.tan(theta)/2\n",
    "                \n",
    "        if x[i] <  xc:    \n",
    "            t[i] = 0\n",
    "    \n",
    "    return t"
   ]
  },
  {
   "cell_type": "markdown",
   "metadata": {},
   "source": [
    "#### O tempo de trânsito da onda direta é definido como:\n",
    "\n",
    "$$ t = \\frac{x}{v} =\\frac{\\overline{AB}}{v_1} $$"
   ]
  },
  {
   "cell_type": "markdown",
   "metadata": {},
   "source": [
    "#### Definindo os parâmetros iniciais do modelo:"
   ]
  },
  {
   "cell_type": "code",
   "execution_count": 5,
   "metadata": {},
   "outputs": [],
   "source": [
    "v1,v2,v3 = 2000,3000,4000"
   ]
  },
  {
   "cell_type": "markdown",
   "metadata": {},
   "source": [
    "### Gerando o tempo de trânsito da onda direta"
   ]
  },
  {
   "cell_type": "code",
   "execution_count": 6,
   "metadata": {},
   "outputs": [
    {
     "data": {
      "text/plain": [
       "<matplotlib.legend.Legend at 0x7f5712903e80>"
      ]
     },
     "execution_count": 6,
     "metadata": {},
     "output_type": "execute_result"
    },
    {
     "data": {
      "image/png": "[encoded data removed]",
      "text/plain": [
       "<Figure size 576x360 with 1 Axes>"
      ]
     },
     "metadata": {
      "needs_background": "light"
     },
     "output_type": "display_data"
    }
   ],
   "source": [
    "t_direta = tempo_onda_direta(x,v1)\n",
    "\n",
    "plt.figure(figsize=(8,5))\n",
    "\n",
    "plt.plot(x,t_direta,label='Direta')\n",
    "plt.xlabel('Posição dos receptores (m)')\n",
    "plt.ylabel('T (s)')\n",
    "plt.legend()"
   ]
  },
  {
   "cell_type": "markdown",
   "metadata": {},
   "source": [
    "### <center> Onda refratada </center>\n",
    "\n",
    "#### Exemplo de duas camadas\n",
    "\n",
    "\n",
    "Supondo que a trajetória percorrida pela frente de onda é igual ao caminho descrito na Fig. 1. Temos que o tempo de trânsito percorrido por um frente de onda será:\n",
    "\n",
    "$$t = t_{AB}+t_{BC}+t_{CD} = \\frac{\\overline{AB}}{v_1} + \\frac{\\overline{BC}}{v_2} + \\frac{\\overline{CD}}{v_3}$$\n",
    "\n",
    "$$ t = \\frac{z}{v_1 \\cos{\\theta_c}}+ \\frac{x-2z \\tan{\\theta_c}}{v_2} + \\frac{z}{v_1 \\cos{\\theta_c}} $$\n",
    "\n",
    "Esta equação pode ser reescrita como:\n",
    "\n",
    "$$ t = \\frac{x}{v_2} + \\frac{2z \\cdot \\cos \\theta_c}{v_1} $$\n",
    "\n",
    "ou em função da velocidade\n",
    "\n",
    "$$ t = \\frac{x}{v_2} + 2z \\cdot \\frac{(v_2^2 - v_1^2)^1/2}{v_1 v_2} $$"
   ]
  },
  {
   "cell_type": "code",
   "execution_count": 7,
   "metadata": {},
   "outputs": [
    {
     "data": {
      "text/plain": [
       "<matplotlib.legend.Legend at 0x7f571287b6d8>"
      ]
     },
     "execution_count": 7,
     "metadata": {},
     "output_type": "execute_result"
    },
    {
     "data": {
      "image/png": "[encoded data removed]",
      "text/plain": [
       "<Figure size 576x360 with 1 Axes>"
      ]
     },
     "metadata": {
      "needs_background": "light"
     },
     "output_type": "display_data"
    }
   ],
   "source": [
    "z=50\n",
    "v=[v1,v2]\n",
    "t_r1 = tempo_onda_refratada_simples(x,v,z)\n",
    "\n",
    "plt.figure(figsize=(8,5))\n",
    "\n",
    "plt.plot(x,t_direta,label='Direta')\n",
    "plt.plot(x[t_r1>0],t_r1[t_r1>0],label='Refratada',ls='--')\n",
    "plt.xlabel('Posição dos receptores (m)')\n",
    "plt.ylabel('T (s)')\n",
    "plt.legend()"
   ]
  },
  {
   "cell_type": "markdown",
   "metadata": {},
   "source": [
    "#### Observando atentamente a equação da onda refratada:\n",
    "\n",
    "$$ t = \\frac{x}{v_2} + 2z \\cdot \\frac{(v_2^2 - v_1^2)^{1/2}}{v_1 v_2} = ax+b$$\n",
    "\n",
    "verificamos que a segunda parcela corresponde ao coeficiente linear da reta:\n",
    "\n",
    "$$b = 2z \\cdot \\frac{(v_2^2 - v_1^2)^{1/2}}{v_1 v_2}$$\n",
    "\n",
    "a partir desta equação, podemos obter a espessura da camada 01:\n",
    "\n",
    "$$ z_1 = \\frac{v_1 v_2}{2(v_2^2 - v_1^2)^{1/2}}$$\n",
    "\n",
    "e o coeficiente ângular, a, é dado por:\n",
    "\n",
    "$$ a = \\frac{1}{v_2} $$"
   ]
  },
  {
   "cell_type": "markdown",
   "metadata": {},
   "source": [
    "### Distância de crossover ($x_{cros}$)\n",
    "\n",
    "Há uma determinada distância em que o tempo de percusso do raio direto e refratado são iguais:\n",
    "\n",
    "$$ \\frac{x_{cros}}{v_1} = \\frac{x_{cros}}{v_2} +  2z \\cdot \\frac{(v_2^2 - v_1^2)^{1/2}}{v_1 v_2} $$\n",
    "\n",
    "podemos reescrever esta equação como:\n",
    "\n",
    "$$ x_{cros} = 2z \\left[ \\frac{v_2 +v_1}{v_2 - v_1} \\right]^{1/2} $$"
   ]
  },
  {
   "cell_type": "code",
   "execution_count": 8,
   "metadata": {},
   "outputs": [
    {
     "data": {
      "text/plain": [
       "array([0.1118034])"
      ]
     },
     "execution_count": 8,
     "metadata": {},
     "output_type": "execute_result"
    }
   ],
   "source": [
    "xcros = 2*z * ((v2+v1)/(v2-v1))**(1/2)\n",
    "\n",
    "tempo_onda_refratada_simples([xcros],v,z)"
   ]
  },
  {
   "cell_type": "code",
   "execution_count": 9,
   "metadata": {},
   "outputs": [
    {
     "data": {
      "text/plain": [
       "<matplotlib.legend.Legend at 0x7f5712867d68>"
      ]
     },
     "execution_count": 9,
     "metadata": {},
     "output_type": "execute_result"
    },
    {
     "data": {
      "image/png": "[encoded data removed]",
      "text/plain": [
       "<Figure size 576x360 with 1 Axes>"
      ]
     },
     "metadata": {
      "needs_background": "light"
     },
     "output_type": "display_data"
    }
   ],
   "source": [
    "z=50\n",
    "v=[v1,v2]\n",
    "t_r1 = tempo_onda_refratada_simples(x,v,z)\n",
    "\n",
    "plt.figure(figsize=(8,5))\n",
    "\n",
    "plt.plot(x,t_direta,label='Direta')\n",
    "plt.plot(x[t_r1>0],t_r1[t_r1>0],label='Refratada',ls='--')\n",
    "plt.scatter(xcros,tempo_onda_refratada_simples([xcros],v,z),c='red',edgecolor='black',s=70,label='$x_{cross}$')\n",
    "plt.xlabel('Posição dos receptores (m)')\n",
    "plt.ylabel('T (s)')\n",
    "plt.legend()"
   ]
  },
  {
   "cell_type": "markdown",
   "metadata": {},
   "source": [
    "### <center> Modelo de três camadas horizontais </center>\n",
    "\n",
    "$$t = \\frac{\\overline{AB}}{v_1} + \\frac{\\overline{BC}}{v_2} + \\frac{\\overline{CD}}{v_3} + \\frac{\\overline{DE}}{v_2} + \\frac{\\overline{EF}}{v_1} $$\n",
    "\n",
    "por analogia a equação da onda refratada com duas camadas, temos:\n",
    "\n",
    "$$t = \\frac{x}{v_3} + \\frac{2 z_1 \\cos \\theta_{12}}{v_1} + \\frac{2 z_1 \\cos \\theta_{23}}{v_2}$$\n"
   ]
  },
  {
   "cell_type": "markdown",
   "metadata": {},
   "source": [
    "____"
   ]
  },
  {
   "cell_type": "markdown",
   "metadata": {},
   "source": [
    "### <center> Modelo de $n$ camadas horizontais </center>\n",
    "\n",
    "Podemos formular uma Eq. geral, descrita pelo seguinte somatório:\n",
    "\n",
    "$$t = \\frac{x}{v_n} + \\sum_{i=1}^{n-1} \\frac{2z_i \\cos \\theta_{i,i+1}}{v_i}$$\n",
    "\n",
    "em que $n$ indica o número de camadas, e $\\theta_{i,i+1}$ indica o ângulo critico entre a í-esima camada e a camada í-esima+1. Lembrando que:\n",
    "\n",
    "$$ \\theta_{i,i+1} = \\sin^{-1}\\left( \\frac{v_i}{v_{i,i+1}} \\right) $$\n",
    "\n",
    "#### Determinando as espessuras das camadas\n",
    "\n",
    "Vamos generalizar o calculo de $z$ para um modelo de $n$ camadas:\n",
    "\n",
    "$$ z_{n-1} = \\left( t-\\frac{x}{v_n}-\\sum_{i=1}^{n-2} \\frac{2 z_i \\cos \\theta_{i,i+1} }{v_i} \\right) \\frac{v_{n-1}}{2 \\cos \\theta_{n-1,n}}$$"
   ]
  },
  {
   "cell_type": "markdown",
   "metadata": {},
   "source": [
    "___"
   ]
  },
  {
   "cell_type": "markdown",
   "metadata": {},
   "source": [
    "### <center> Interpretação de Curvas tempo x distância </center>\n",
    "\n",
    "<ol>\n",
    "    \n",
    "<li> Obter a velocidade da primeira camada a partir da onda direta ($v_1$); </li>\n",
    "\n",
    "<li> Estimar velocidade da segunda camada a partir da reta da onda refratada ($v_2$);</li>\n",
    "\n",
    "<li> Estimar espessura ($z_1$) </li>\n",
    "\n",
    "<li> Utilizando os parâmetros obtidos, repetir o procedimento para obter as espessuras e velocidades das camadas mais profundas $v = v_2, v_3, ..., v_n$ e $z = z_1, z_2, ..., z_n$. </li>\n",
    "\n",
    "</ol>"
   ]
  },
  {
   "cell_type": "code",
   "execution_count": 10,
   "metadata": {},
   "outputs": [],
   "source": [
    "def tempo_onda_refratada_simples(x,v,z):\n",
    "\n",
    "    t = np.zeros(len(x)) ; theta = np.arcsin(v[0]/v[1])\n",
    "    \n",
    "    for i in range(0,len(x)):\n",
    "        if x[i]>= z*np.tan(theta)/2:\n",
    "            t[i] = (x[i]/v[1]) + (2*z*np.cos(theta)/v[0])\n",
    "    return t"
   ]
  },
  {
   "cell_type": "code",
   "execution_count": null,
   "metadata": {},
   "outputs": [],
   "source": []
  },
  {
   "cell_type": "code",
   "execution_count": 11,
   "metadata": {},
   "outputs": [],
   "source": [
    "v = [2000,3000,4000]\n",
    "z = [50,100]\n",
    "t_r2 = tempo_refratada_n_camadas(x,v,z)"
   ]
  },
  {
   "cell_type": "code",
   "execution_count": 12,
   "metadata": {},
   "outputs": [
    {
     "data": {
      "text/plain": [
       "<matplotlib.legend.Legend at 0x7f5712606f98>"
      ]
     },
     "execution_count": 12,
     "metadata": {},
     "output_type": "execute_result"
    },
    {
     "data": {
      "image/png": "[encoded data removed]",
      "text/plain": [
       "<Figure size 576x360 with 1 Axes>"
      ]
     },
     "metadata": {
      "needs_background": "light"
     },
     "output_type": "display_data"
    }
   ],
   "source": [
    "z=50\n",
    "v=[v1,v2]\n",
    "t_r1 = tempo_onda_refratada_simples(x,v,z)\n",
    "\n",
    "plt.figure(figsize=(8,5))\n",
    "\n",
    "plt.plot(x,t_direta,label='Direta')\n",
    "plt.plot(x[t_r1>0],t_r1[t_r1>0],label='Refratada',ls='--')\n",
    "plt.plot(x[t_r2>0],t_r2[t_r2>0],label='Refratada 2',ls='--')\n",
    "plt.scatter(xcros,tempo_onda_refratada_simples([xcros],v,z),c='red',edgecolor='black',s=70,label='$x_{cross}$')\n",
    "plt.xlabel('Posição dos receptores (m)')\n",
    "plt.ylabel('T (s)')\n",
    "plt.legend()"
   ]
  },
  {
   "cell_type": "markdown",
   "metadata": {},
   "source": [
    "----"
   ]
  },
  {
   "cell_type": "markdown",
   "metadata": {},
   "source": [
    "##  <center> Modelo de camadas inclinadas </center> "
   ]
  },
  {
   "cell_type": "markdown",
   "metadata": {},
   "source": [
    "Nos modelos de camada inclinada, o mergulho entra como uma icógnita adicional na equação de tempo de percuso da refração, e a recíproca do gradiente da curva não é mais válida para se obter a velocidade dos estratos mais profundos.\n",
    "\n",
    "O método utilizado para interpertar / obter os parâmetros de um modelo por sísmica de refração consiste em reverter o experimento, obtendo gráficos de percurso direto (<i>forward</i>) e reverso (<i>reverse</i>).\n",
    "\n",
    "A forma geral da equação do modelo de camada inclinada é a seguinte:\n",
    "\n",
    "$$ t = \\frac{x \\sin \\beta}{v_1} + \\sum_{i=1}^{n-1} \\frac{h_i (\\cos \\alpha_i + \\cos \\beta_i)}{v_i}$$\n",
    "\n",
    "onde $h_i$ é a espessura da i-ésima camada, $v_i$ é a velocidade do raio na i-ésima camada, e $\\alpha_i$ é o ângulo com respeito a vertical na direção do mergulho e $\\beta_i$ no sentindo oposto.\n",
    "\n",
    "Na direção do mergulho:\n",
    "\n",
    "$$ \\alpha_i = \\theta_{i,i+1} - \\gamma_i$$\n",
    "\n",
    "e\n",
    "\n",
    "$$\\beta_i = \\theta_{i,i+1} + \\gamma_i $$\n",
    "\n",
    "Na sentido oposto ao mergulho:\n",
    "\n",
    "$$ \\alpha_i = \\theta_{i,i+1} + \\gamma_i$$\n",
    "\n",
    "e\n",
    "\n",
    "$$\\beta_i = \\theta_{i,i+1} - \\gamma_i $$"
   ]
  },
  {
   "cell_type": "markdown",
   "metadata": {},
   "source": [
    "----"
   ]
  },
  {
   "cell_type": "markdown",
   "metadata": {},
   "source": [
    "### Modelo com duas camadas \n",
    "\n",
    "Como exemplo da interpretação da equação de tempo de trânsito da camada inclinada, consideremo s um modelo composto por duas camadas, como mostra a figura a seguir:"
   ]
  },
  {
   "cell_type": "markdown",
   "metadata": {},
   "source": [
    "FIGURA"
   ]
  },
  {
   "cell_type": "markdown",
   "metadata": {},
   "source": [
    "$$ t = \\frac{x \\sin \\beta_1}{v_1} + \\frac{h_1 (\\cos \\alpha +\\cos \\beta)}{v_1} $$\n",
    "\n",
    "$$ = \\frac{x \\sin \\beta_1}{v_1} + \\frac{h_1 \\cos(\\theta_{12} - \\gamma_1)}{v_1} + \\frac{h_1 \\cos(\\theta_{12} + \\gamma_1)}{v_1}$$\n",
    "\n",
    "$$ = \\frac{x \\sin \\beta_1}{v_1} + \\frac{2 h_1 \\cos \\theta_{12} \\cos \\gamma_1 }{v_1}$$\n",
    "\n",
    "ou em função de z:\n",
    "\n",
    "$$ t = \\frac{x \\sin \\beta_1}{v_1} + \\frac{2 z \\cos \\theta_{12} }{v_1} $$"
   ]
  },
  {
   "cell_type": "markdown",
   "metadata": {},
   "source": [
    "---"
   ]
  },
  {
   "cell_type": "markdown",
   "metadata": {},
   "source": [
    "Os gradientes da curva de tempo de trânsito x distância não refletem as verdadeiras velocidades, e sim as velocidades aparentes:\n",
    "\n",
    "$$\\frac{1}{v_{2d}} = \\frac{\\sin(\\theta_{1,2}+\\gamma_1)}{v_1} $$\n",
    "\n",
    "e\n",
    "\n",
    "$$\\frac{1}{v_{2u}} = \\frac{\\sin(\\theta_{1,2}-\\gamma_1)}{v_1}$$\n",
    "\n",
    "Daí temos:\n",
    "\n",
    "$$ \\theta_{1,2}+\\gamma_1 = \\sin^{-1} \\left( \\frac{v_1}{v_{2d}} \\right) $$\n",
    "\n",
    "$$ \\theta_{1,2}-\\gamma_1 = \\sin^{-1} \\left( \\frac{v_1}{v_{2u}} \\right) $$\n",
    "\n",
    "Resolvendo para $\\theta$ e $\\gamma$:\n",
    "\n",
    "$$ \\theta_{1,2} = \\frac{1}{2} \\left[ \\sin^{-1} \\left( \\frac{v_1}{v_{2d}} \\right) + \\sin^{-1} \\left( \\frac{v_1}{v_{2u}} \\right) \\right]$$\n",
    "\n",
    "e\n",
    "\n",
    "$$ \\gamma_1 = \\frac{1}{2} \\left[ \\sin^{-1} \\left( \\frac{v_1}{v_{2d}} \\right) - \\sin^{-1} \\left( \\frac{v_1}{v_{2u}} \\right) \\right]$$"
   ]
  },
  {
   "cell_type": "markdown",
   "metadata": {},
   "source": [
    "---"
   ]
  },
  {
   "cell_type": "markdown",
   "metadata": {},
   "source": [
    "Conhcendo-se $v_1$ e $\\theta_{12}$, podemos determinar $v_2$:\n",
    "\n",
    "$$ v_2 = \\frac{ \\sin \\theta_{12}}{v_1} $$\n",
    "\n",
    "e as distâncias $z$ e $z'$, podem ser obtidas a partir do coeficiente linear da reta:\n",
    "\n",
    "$$b_{td} = \\frac{2z \\cos \\theta_{12}}{v_1}$$\n",
    "\n",
    "logo:\n",
    "\n",
    "$$z= \\frac{b_{td}\\cdot v_1}{2\\cos \\theta_{12}}$$"
   ]
  },
  {
   "cell_type": "code",
   "execution_count": null,
   "metadata": {},
   "outputs": [],
   "source": []
  }
 ],
 "metadata": {
  "kernelspec": {
   "display_name": "Python 3",
   "language": "python",
   "name": "python3"
  },
  "language_info": {
   "codemirror_mode": {
    "name": "ipython",
    "version": 3
   },
   "file_extension": ".py",
   "mimetype": "text/x-python",
   "name": "python",
   "nbconvert_exporter": "python",
   "pygments_lexer": "ipython3",
   "version": "3.7.4"
  }
 },
 "nbformat": 4,
 "nbformat_minor": 2
}
